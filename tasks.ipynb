{
 "cells": [
  {
   "cell_type": "markdown",
   "metadata": {},
   "source": [
    "<h1>TASK 3:</h1>\n",
    "\n",
    "2 powered to the 4 is 16.\n",
    "\n",
    "I used the Random and Itertools libraries."
   ]
  },
  {
   "cell_type": "code",
   "execution_count": 6,
   "metadata": {},
   "outputs": [
    {
     "name": "stdout",
     "output_type": "stream",
     "text": [
      "0\n"
     ]
    }
   ],
   "source": [
    "import itertools\n",
    "import random\n",
    "\n",
    "possible_functions = list(itertools.product([0, 1], repeat=4))\n",
    "\n",
    "# randomly select function\n",
    "# function in function\n",
    "def random_function():\n",
    "    picked_function = random.choice(possible_functions)\n",
    "    \n",
    "    def function(bits):\n",
    "        index = int(bits, 2)\n",
    "        return picked_function[index]\n",
    "\n",
    "    return function\n",
    "\n",
    "# prints 0 or 1\n",
    "f = random_function()\n",
    "print(f(\"0010\"))"
   ]
  }
 ],
 "metadata": {
  "kernelspec": {
   "display_name": "Python 3",
   "language": "python",
   "name": "python3"
  },
  "language_info": {
   "codemirror_mode": {
    "name": "ipython",
    "version": 3
   },
   "file_extension": ".py",
   "mimetype": "text/x-python",
   "name": "python",
   "nbconvert_exporter": "python",
   "pygments_lexer": "ipython3",
   "version": "3.10.11"
  }
 },
 "nbformat": 4,
 "nbformat_minor": 2
}

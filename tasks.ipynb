{
 "cells": [
  {
   "cell_type": "markdown",
   "metadata": {},
   "source": [
    "<h1>TASK 3:</h1>\n",
    "\n",
    "2 powered to the 4 is 16.\n",
    "\n",
    "I used the Random and Itertools libraries."
   ]
  },
  {
   "cell_type": "code",
   "execution_count": 16,
   "metadata": {},
   "outputs": [
    {
     "name": "stdout",
     "output_type": "stream",
     "text": [
      "0\n"
     ]
    }
   ],
   "source": [
    "import itertools\n",
    "import random\n",
    "\n",
    "possible_functions = list(itertools.product([0, 1], repeat=4))\n",
    "\n",
    "# randomly select function\n",
    "# function in function\n",
    "def random_function():\n",
    "    picked_function = random.choice(possible_functions)\n",
    "    \n",
    "    def function(bits):\n",
    "        index = int(bits, 2)\n",
    "        return picked_function[index]\n",
    "\n",
    "    return function\n",
    "\n",
    "# prints 0 or 1\n",
    "f = random_function()\n",
    "print(f(\"0010\"))"
   ]
  },
  {
   "cell_type": "markdown",
   "metadata": {},
   "source": [
    "<h1>Task 4:</h1>"
   ]
  },
  {
   "cell_type": "markdown",
   "metadata": {},
   "source": [
    "* Rectangular matix - inner lists have the same number of entries *"
   ]
  },
  {
   "cell_type": "code",
   "execution_count": 17,
   "metadata": {},
   "outputs": [
    {
     "name": "stdout",
     "output_type": "stream",
     "text": [
      "[[23, 31], [57, 75]]\n"
     ]
    }
   ],
   "source": [
    "def multiply_matrix(matrix_1, matrix_2):\n",
    "    \n",
    "    #Check to see if they have the same amount of entries\n",
    "    if len(matrix_1[0]) != len(matrix_2):\n",
    "        raise ValueError(\"entries are not the same\")\n",
    "\n",
    "    #this creates a matix of results\n",
    "    #filled the matrix with 0's\n",
    "    result = [[0 for _ in range(len(matrix_2[0]))] \n",
    "              for _ in range(len(matrix_1))]\n",
    "\n",
    "    #multiply\n",
    "    for i in range(len(matrix_1)):\n",
    "        for j in range(len(matrix_2[0])):\n",
    "            for k in range(len(matrix_2)):\n",
    "                result[i][j] += matrix_1[i][k] * matrix_2[k][j]\n",
    "\n",
    "    return result\n",
    "\n",
    "#creates 2 matrices and uses multiply_matrix to multiply the numbers\n",
    "matrix_1 = [[1, 4], [4, 9]]\n",
    "matrix_2 = [[3, 3], [5, 7]]\n",
    "result = multiply_matrix(matrix_1, matrix_2)\n",
    "#the results of multiply_matrix applied\n",
    "print(result)\n"
   ]
  }
 ],
 "metadata": {
  "kernelspec": {
   "display_name": "Python 3",
   "language": "python",
   "name": "python3"
  },
  "language_info": {
   "codemirror_mode": {
    "name": "ipython",
    "version": 3
   },
   "file_extension": ".py",
   "mimetype": "text/x-python",
   "name": "python",
   "nbconvert_exporter": "python",
   "pygments_lexer": "ipython3",
   "version": "3.10.11"
  }
 },
 "nbformat": 4,
 "nbformat_minor": 2
}

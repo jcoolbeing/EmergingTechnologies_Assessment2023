{
 "cells": [
  {
   "cell_type": "markdown",
   "metadata": {},
   "source": [
    "<h1>TASK 1:</h1>"
   ]
  },
  {
   "cell_type": "markdown",
   "metadata": {},
   "source": [
    "The Collatz conjecture1 is a famous unsolved problem in mathe-matics. The problem is to prove \n",
    "that if you start with any positive integer x and repeatedly apply the function f(x) below, \n",
    "you always get stuck in the repeating sequence 1, 4, 2, 1, 4, 2, . . .<br>\n",
    "f(x) =  x ÷ 2 if x is even<br>\n",
    "        3x + 1 otherwise<br>\n",
    "For example, starting with the value 10, which is an even number, we divide it by 2 to get 5.\n",
    " Then 5 is an odd number so, we multiply by 3 and add 1 to get 16. Then we repeatedly divide \n",
    " by 2 to get 8, 4, 2, 1. Once we are at 1, we go back to 4 and get stuck in the\n",
    "repeating sequence 4, 2, 1 as we suspected. Your task is to verify, using Python, that the \n",
    "conjecture is true for the first 10,000 positive integers."
   ]
  },
  {
   "cell_type": "code",
   "execution_count": 37,
   "metadata": {},
   "outputs": [],
   "source": [
    "#create a collatz sequence\n",
    "def collatz(n):\n",
    "    while n != 1:\n",
    "        yield n\n",
    "        if n % 2 == 0:  #is even\n",
    "            n = n // 2\n",
    "        else:           #is odd\n",
    "            n = 3 * n + 1\n",
    "    yield n\n",
    "\n",
    "#check if true for the first 10000 positive integers\n",
    "#end_integer is the 10000 \n",
    "def verify_conjecture(end_integer):\n",
    "    for i in range(1, end_integer + 1):\n",
    "        conjecture = list(collatz(i))\n",
    "        if conjecture[-1] != 1:\n",
    "            #conjecture fails\n",
    "            return False, i  \n",
    "    # conjecture is true\n",
    "    return True \n",
    "\n",
    "verification_result = verify_conjecture(10000)\n"
   ]
  },
  {
   "cell_type": "markdown",
   "metadata": {},
   "source": [
    "<h1>TASK 2:</h1>"
   ]
  },
  {
   "cell_type": "markdown",
   "metadata": {},
   "source": []
  },
  {
   "cell_type": "code",
   "execution_count": null,
   "metadata": {},
   "outputs": [],
   "source": []
  },
  {
   "cell_type": "markdown",
   "metadata": {},
   "source": [
    "<h1>TASK 3:</h1>\n",
    "\n",
    "2 powered to the 4 is 16.\n",
    "\n",
    "I used the Random and Itertools libraries."
   ]
  },
  {
   "cell_type": "code",
   "execution_count": 38,
   "metadata": {},
   "outputs": [
    {
     "name": "stdout",
     "output_type": "stream",
     "text": [
      "1\n"
     ]
    }
   ],
   "source": [
    "import itertools\n",
    "import random\n",
    "\n",
    "possible_functions = list(itertools.product([0, 1], repeat=4))\n",
    "\n",
    "# randomly select function\n",
    "# function in function\n",
    "def random_function():\n",
    "    picked_function = random.choice(possible_functions)\n",
    "    \n",
    "    def function(bits):\n",
    "        index = int(bits, 2)\n",
    "        return picked_function[index]\n",
    "\n",
    "    return function\n",
    "\n",
    "# prints 0 or 1\n",
    "f = random_function()\n",
    "print(f(\"0010\"))"
   ]
  },
  {
   "cell_type": "markdown",
   "metadata": {},
   "source": [
    "<h1>Task 4:</h1>"
   ]
  },
  {
   "cell_type": "markdown",
   "metadata": {},
   "source": [
    "* Rectangular matix - inner lists have the same number of entries *"
   ]
  },
  {
   "cell_type": "code",
   "execution_count": 39,
   "metadata": {},
   "outputs": [
    {
     "name": "stdout",
     "output_type": "stream",
     "text": [
      "[[23, 31], [57, 75]]\n"
     ]
    }
   ],
   "source": [
    "def multiply_matrix(matrix_1, matrix_2):\n",
    "    \n",
    "    #Check to see if they have the same amount of entries\n",
    "    if len(matrix_1[0]) != len(matrix_2):\n",
    "        raise ValueError(\"entries are not the same\")\n",
    "\n",
    "    #this creates a matix of results\n",
    "    #filled the matrix with 0's\n",
    "    result = [[0 for _ in range(len(matrix_2[0]))] \n",
    "              for _ in range(len(matrix_1))]\n",
    "\n",
    "    #multiply\n",
    "    for i in range(len(matrix_1)):\n",
    "        for j in range(len(matrix_2[0])):\n",
    "            for k in range(len(matrix_2)):\n",
    "                result[i][j] += matrix_1[i][k] * matrix_2[k][j]\n",
    "\n",
    "    return result\n",
    "\n",
    "#creates 2 matrices and uses multiply_matrix to multiply the numbers\n",
    "matrix_1 = [[1, 4], [4, 9]]\n",
    "matrix_2 = [[3, 3], [5, 7]]\n",
    "result = multiply_matrix(matrix_1, matrix_2)\n",
    "#the results of multiply_matrix applied\n",
    "print(result)\n"
   ]
  }
 ],
 "metadata": {
  "kernelspec": {
   "display_name": "Python 3",
   "language": "python",
   "name": "python3"
  },
  "language_info": {
   "codemirror_mode": {
    "name": "ipython",
    "version": 3
   },
   "file_extension": ".py",
   "mimetype": "text/x-python",
   "name": "python",
   "nbconvert_exporter": "python",
   "pygments_lexer": "ipython3",
   "version": "3.10.11"
  }
 },
 "nbformat": 4,
 "nbformat_minor": 2
}
